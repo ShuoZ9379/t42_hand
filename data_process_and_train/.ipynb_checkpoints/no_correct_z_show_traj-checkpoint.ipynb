{
 "cells": [
  {
   "cell_type": "code",
   "execution_count": 1,
   "metadata": {},
   "outputs": [],
   "source": [
    "import scipy.io\n",
    "import numpy as np \n",
    "import pdb\n",
    "import torch\n",
    "from common.data_normalization import *\n",
    "from common.pt_build_model import *\n",
    "import matplotlib.pyplot as plt\n",
    "import glob,pickle,os,copy,sys,random\n",
    "from sys import argv\n",
    "from process_params import *\n",
    "# argv lr heldout nntype seed dropout nodes epoch p4p true_load nm ne suffix(avi_,v1_,...)\n",
    "dm='wm'\n",
    "dm='nm'\n",
    "train_mode='ne'\n",
    "suffix='v1_'\n",
    "data_mode=data_mode[:-2]+dm"
   ]
  },
  {
   "cell_type": "code",
   "execution_count": null,
   "metadata": {},
   "outputs": [
    {
     "name": "stdout",
     "output_type": "stream",
     "text": [
      "Rolling out 235test trajectories.\n"
     ]
    },
    {
     "name": "stderr",
     "output_type": "stream",
     "text": [
      "/usr/local/lib/python3.6/site-packages/matplotlib/pyplot.py:513: RuntimeWarning: More than 20 figures have been opened. Figures created through the pyplot interface (`matplotlib.pyplot.figure`) are retained until explicitly closed and may consume too much memory. (To control this warning, see the rcParam `figure.max_open_warning`).\n",
      "  max_open_warning, RuntimeWarning)\n"
     ]
    }
   ],
   "source": [
    "seed=0\n",
    "nn_type = '2'\n",
    "held_out = .0\n",
    "lr = .001\n",
    "dropout_rate = .0\n",
    "nodes=200\n",
    "p4p=0\n",
    "true_load=0\n",
    "argv=['',0.0002,0,'2',0,0.1,200]\n",
    "if len(argv)>3:\n",
    "    lr=float(argv[1])\n",
    "    held_out=float(argv[2])\n",
    "    nn_type=argv[3]\n",
    "    seed=int(argv[4])\n",
    "    dropout_rate=float(argv[5])\n",
    "    nodes=int(argv[6])\n",
    "    if len(argv)>7:\n",
    "        ep=int(argv[7])\n",
    "        p4p=int(argv[8])\n",
    "        true_load=int(argv[9])\n",
    "pred_path = dm+'_'+train_mode+'_'+suffix+'pred_fig_f/'\n",
    "if not os.path.exists(pred_path):\n",
    "    os.makedirs(pred_path)\n",
    "if train_separate:\n",
    "    test_ds_path=base_path+color+'_data/'+obj+'/test/test_separate_'+data_type+'_v'+test_idx+data_mode+'_'+suffix+'f'\n",
    "    train_ds_path=base_path+color+'_data/'+obj+'/train_separate_'+data_type+'_v'+test_idx+data_mode+'_'+suffix+'f'\n",
    "#Assume episodes are always separated\n",
    "else:\n",
    "    raise\n",
    "with open(test_ds_path, 'rb') as pickle_file:\n",
    "     test_ds_ls,test_ds_all_ls,state_dim,action_dim,test_traj_gt_ls,real_test_actions_ls = pickle.load(pickle_file)\n",
    "with open(train_ds_path, 'rb') as pickle_file:\n",
    "     train_ds_ls,train_ds_all_ls,state_dim,action_dim,train_traj_gt_ls,real_train_actions_ls = pickle.load(pickle_file)\n",
    "\n",
    "#train_test_idx=[np.random.randint(len(train_ds_ls))]\n",
    "train_test_idx=list(range(len(train_ds_ls)))\n",
    "#train_test_idx=[52,55,69]\n",
    "#train_test_idx=[101,208]\n",
    "#train_test_idx=[]\n",
    "#train_test_idx=list(range(20))\n",
    "test_test_idx=['test 1','test 2']\n",
    "#test_test_idx,test_ds_ls,test_ds_all_ls,test_traj_gt_ls,real_test_actions_ls=[],[],[],[],[]\n",
    "if len(train_test_idx)!=0:   \n",
    "    if len(train_test_idx)!=1:\n",
    "        test_ds_ls+=[train_ds_ls[tt_idx] for tt_idx in train_test_idx]\n",
    "        test_ds_all_ls+=[train_ds_all_ls[tt_idx] for tt_idx in train_test_idx]\n",
    "        test_traj_gt_ls+=[train_traj_gt_ls[tt_idx] for tt_idx in train_test_idx]\n",
    "        real_test_actions_ls+=[real_train_actions_ls[tt_idx] for tt_idx in train_test_idx]\n",
    "    else:\n",
    "        test_ds_ls.append(train_ds_ls[train_test_idx[0]])\n",
    "        test_ds_all_ls.append(train_ds_all_ls[train_test_idx[0]])\n",
    "        test_traj_gt_ls.append(train_traj_gt_ls[train_test_idx[0]])\n",
    "        real_test_actions_ls.append(real_train_actions_ls[train_test_idx[0]])\n",
    "    test_test_idx+=train_test_idx\n",
    "\n",
    "task_ofs = state_dim + action_dim\n",
    "test_ds = [torch.tensor(data, dtype=dtype) for data in test_ds_ls]\n",
    "test_ds_all = [torch.tensor(data, dtype=dtype) for data in test_ds_all_ls]\n",
    "real_test_actions=[torch.tensor(ac, dtype=dtype) for ac in real_test_actions_ls]\n",
    "test_eps_len=[ep.shape[0] for ep in test_ds_ls]\n",
    "print(\"Rolling out \" + str(len(test_ds_ls)) + \"test trajectories.\")\n",
    "\n",
    "dtype = torch.float\n",
    "pred_fig_path = pred_path + 'traj_lr' + str(lr)+ '_' +'val' + str(held_out)+ '_' + 'seed' + str(seed) + '_nn_' + nn_type + '_dp_' + str(dropout_rate)+'_nodes_'+str(nodes)\n",
    "init_states=[]\n",
    "for i in range(len(test_ds_ls)):\n",
    "    tt_idx=str(test_test_idx[i])\n",
    "    gt_states = test_ds_all[i][:,:state_dim]\n",
    "    real_actions = real_test_actions[i]\n",
    "    valid_states_for_plot = np.vstack(test_traj_gt_ls[i])\n",
    "    valid_states_for_plot = torch.tensor(valid_states_for_plot, dtype=dtype)\n",
    "    #print(str(i-2)+':'+str(test_ds[i].shape[0]))\n",
    "    fig = plt.figure()\n",
    "    init_states.append(valid_states_for_plot[0, :4].numpy())\n",
    "    plt.scatter(valid_states_for_plot[0, 0], valid_states_for_plot[0, 1], s=150, c='k', marker=\"*\",label='start')\n",
    "    plt.plot(valid_states_for_plot[:, 0], valid_states_for_plot[:, 1], color='blue', label='Ground Truth', marker='.', markersize=2, linewidth=1)\n",
    "    plt.axis('scaled')\n",
    "    plt.title('Trajectory '+tt_idx+ ' Pos Space')\n",
    "    plt.legend()\n",
    "    fig_loc=pred_fig_path +'_traj_'+tt_idx+'_pos.png'\n",
    "    fig.set_size_inches(10, 10)\n",
    "    fig.savefig(fig_loc)\n",
    "aaa=np.array(init_states)\n",
    "print(aaa.shape)"
   ]
  },
  {
   "cell_type": "code",
   "execution_count": 3,
   "metadata": {},
   "outputs": [
    {
     "name": "stdout",
     "output_type": "stream",
     "text": [
      "[  -0.61181796  145.95969      80.55484    -102.35806   ] [2.7118096  0.52678216 8.356296   4.9099164 ]\n"
     ]
    }
   ],
   "source": [
    "mu=np.mean(aaa,axis=0)\n",
    "sigma=np.std(aaa,axis=0)\n",
    "print(mu,sigma)"
   ]
  },
  {
   "cell_type": "code",
   "execution_count": 5,
   "metadata": {},
   "outputs": [
    {
     "data": {
      "text/plain": [
       "array([  -1.91233464,  146.47342819,   85.7284756 , -103.44243346])"
      ]
     },
     "execution_count": 5,
     "metadata": {},
     "output_type": "execute_result"
    }
   ],
   "source": [
    "np.random.normal(mu,sigma)"
   ]
  },
  {
   "cell_type": "code",
   "execution_count": 8,
   "metadata": {},
   "outputs": [],
   "source": [
    "max_load=[280,-280]\n",
    "##-280 is min for right finger"
   ]
  },
  {
   "cell_type": "code",
   "execution_count": null,
   "metadata": {},
   "outputs": [],
   "source": []
  }
 ],
 "metadata": {
  "kernelspec": {
   "display_name": "Python 3",
   "language": "python",
   "name": "python3"
  },
  "language_info": {
   "codemirror_mode": {
    "name": "ipython",
    "version": 3
   },
   "file_extension": ".py",
   "mimetype": "text/x-python",
   "name": "python",
   "nbconvert_exporter": "python",
   "pygments_lexer": "ipython3",
   "version": "3.6.5"
  }
 },
 "nbformat": 4,
 "nbformat_minor": 4
}
