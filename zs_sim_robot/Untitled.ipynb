{
 "cells": [
  {
   "cell_type": "code",
   "execution_count": 1,
   "metadata": {},
   "outputs": [],
   "source": [
    "import torch,pickle,os\n",
    "from torch.autograd import Variable\n",
    "import numpy as np\n",
    "def normalize(data,x_std_arr,x_mean_arr):\n",
    "    return (data - torch.tensor(x_mean_arr[:data.shape[-1]],dtype=torch.float32)) / torch.tensor(x_std_arr[:data.shape[-1]],dtype=torch.float32)\n",
    "def denormalize(data,y_std_arr,y_mean_arr):\n",
    "    return data * torch.tensor(y_std_arr[:data.shape[-1]],dtype=torch.float32) + torch.tensor(y_mean_arr[:data.shape[-1]],dtype=torch.float32)\n",
    "\n",
    "def get_A_and_B(x,u,model,x_std_arr,x_mean_arr,y_std_arr,y_mean_arr):\n",
    "    x=Variable(torch.tensor(x,dtype=torch.float32),requires_grad=True)\n",
    "    u=Variable(torch.tensor(u,dtype=torch.float32),requires_grad=True)\n",
    "    xu = torch.cat((x,u))\n",
    "    next_x = denormalize(model(normalize(xu,x_std_arr,x_mean_arr)),y_std_arr,y_mean_arr)+x\n",
    "    A=torch.zeros(4,4)\n",
    "    B=torch.zeros(4,2)\n",
    "    for i in range(next_x.shape[0]):\n",
    "        next_x[i].backward(retain_graph=True)\n",
    "        A[i]=x.grad.data\n",
    "        B[i]=u.grad.data\n",
    "    return A,B"
   ]
  },
  {
   "cell_type": "code",
   "execution_count": 2,
   "metadata": {},
   "outputs": [],
   "source": [
    "ho='_ho0.999'\n",
    "\n",
    "model_path='/Users/zsbjltwjj/Downloads/t42_hand/zs_sim_robot/trans_model_data/gazebo_ah_model/sim_cont_trajT_bs512_model512_BS64_loadT'+ho\n",
    "with open(model_path, 'rb') as pickle_file:\n",
    "    model = torch.load(pickle_file, map_location='cpu')\n",
    "norm_path='/Users/zsbjltwjj/Downloads/t42_hand/zs_sim_robot/trans_model_data/gazebo_ah_normalization/normalization_arr_sim_cont_trajT_bs512_model512_BS64_loadT'+ho+'_py2'\n",
    "with open(norm_path, 'rb') as pickle_file:\n",
    "    x_norm_arr, y_norm_arr = pickle.load(pickle_file)\n",
    "    x_mean_arr, x_std_arr = x_norm_arr[0], x_norm_arr[1]\n",
    "    y_mean_arr, y_std_arr = y_norm_arr[0], y_norm_arr[1]\n",
    "    \n",
    "set_idx='20'\n",
    "initial_path_mode='astar'\n",
    "\n",
    "if set_idx=='21':\n",
    "    goal_idx_ls=[0]\n",
    "elif set_idx=='20':\n",
    "    goal_idx_ls=[0,2,7,8,15]\n",
    "    \n",
    "for goal_idx in goal_idx_ls:\n",
    "    if initial_path_mode=='astar':\n",
    "        if set_idx=='20':\n",
    "            base_path='/Users/zsbjltwjj/Downloads/t42_hand/beliefspaceplanning/rollout_node/set/set20c_100ac2'+ho+'/astar_goal'+str(goal_idx)+'_run0_m100_obs0.75'+ho\n",
    "        elif set_idx=='21':\n",
    "            raise ValueError('still waiting for the astar solution!')\n",
    "    x_path=base_path+'_traj.txt'\n",
    "    u_path=base_path+'_plan.txt'\n",
    "    xx=np.loadtxt(x_path,delimiter=',')\n",
    "    uu=np.loadtxt(u_path,delimiter=',')\n",
    "    \n",
    "    A_ls,B_ls=[],[]\n",
    "    for i in range(uu.shape[0]):\n",
    "        A,B=get_A_and_B(xx[i],uu[i],model,x_std_arr,x_mean_arr,y_std_arr,y_mean_arr)\n",
    "        A_ls.append(A)\n",
    "        B_ls.append(B)\n",
    "    a_and_b_path='/Users/zsbjltwjj/Downloads/t42_hand/zs_sim_robot/lqr_coef/'\n",
    "    if not os.path.exists(a_and_b_path):\n",
    "        os.makedirs(a_and_b_path)\n",
    "    A_path=a_and_b_path+initial_path_mode+ho+'_set'+set_idx+'c_goal'+str(goal_idx)+'_A'\n",
    "    B_path=a_and_b_path+initial_path_mode+ho+'_set'+set_idx+'c_goal'+str(goal_idx)+'_B'\n",
    "    with open(A_path,'wb') as A_file:\n",
    "        torch.save(A_ls,A_file)\n",
    "    with open(B_path,'wb') as B_file:\n",
    "        torch.save(B_ls,B_file)"
   ]
  },
  {
   "cell_type": "code",
   "execution_count": null,
   "metadata": {},
   "outputs": [],
   "source": []
  },
  {
   "cell_type": "code",
   "execution_count": 108,
   "metadata": {},
   "outputs": [
    {
     "name": "stdout",
     "output_type": "stream",
     "text": [
      "tensor([2.6774e-02, 1.1819e+02, 1.6032e+01, 1.6031e+01],\n",
      "       grad_fn=<AddBackward0>)\n"
     ]
    },
    {
     "data": {
      "text/plain": [
       "(tensor([[ 9.9974e-01, -1.0900e-04,  6.6268e-03, -5.8714e-03],\n",
       "         [ 9.9998e-01,  9.9960e-01,  4.6680e-03, -4.6806e-03],\n",
       "         [ 9.9994e-01,  9.9972e-01,  1.0047e+00, -4.7176e-03],\n",
       "         [ 9.9994e-01,  9.9988e-01,  1.0044e+00,  9.9529e-01]]),\n",
       " tensor([[ 0.1570, -0.1651],\n",
       "         [ 0.1558, -0.1644],\n",
       "         [ 0.1833, -0.1667],\n",
       "         [ 0.1818, -0.1383]]))"
      ]
     },
     "execution_count": 108,
     "metadata": {},
     "output_type": "execute_result"
    }
   ],
   "source": [
    "init=[0.03238881511894898396,118.18717713766936583397,16.00000000000000000000,16.00000000000000000000]\n",
    "get_A_and_B(torch.tensor(init),torch.ones(2),model,x_std_arr,x_mean_arr,y_std_arr,y_mean_arr)"
   ]
  }
 ],
 "metadata": {
  "kernelspec": {
   "display_name": "Python 3",
   "language": "python",
   "name": "python3"
  },
  "language_info": {
   "codemirror_mode": {
    "name": "ipython",
    "version": 3
   },
   "file_extension": ".py",
   "mimetype": "text/x-python",
   "name": "python",
   "nbconvert_exporter": "python",
   "pygments_lexer": "ipython3",
   "version": "3.6.5"
  }
 },
 "nbformat": 4,
 "nbformat_minor": 4
}
