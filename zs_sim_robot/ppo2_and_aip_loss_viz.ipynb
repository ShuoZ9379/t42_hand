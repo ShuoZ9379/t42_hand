{
 "cells": [
  {
   "cell_type": "markdown",
   "metadata": {
    "colab_type": "text",
    "id": "Ynb-laSwmpac"
   },
   "source": [
    "# Loading and visualizing results ([open in colab](https://colab.research.google.com/github/openai/baselines/blob/master/docs/viz/viz.ipynb))\n",
    "In order to compare performance of algorithms, we often would like to visualize learning curves (reward as a function of time steps), or some other auxiliary information about learning aggregated into a plot. Baselines repo provides tools for doing so in several different ways, depending on the goal."
   ]
  },
  {
   "cell_type": "markdown",
   "metadata": {
    "colab_type": "text",
    "id": "yreoV7OClzYG"
   },
   "source": [
    "## Preliminaries / TensorBoard\n",
    "First, let us install baselines repo from github"
   ]
  },
  {
   "cell_type": "markdown",
   "metadata": {
    "colab_type": "text",
    "id": "1n7XAyVWniRp"
   },
   "source": [
    "For all algorithms in baselines summary data is saved into a folder defined by logger. By default, a folder $TMPDIR/openai-<date>-<time> is used; you can see the location of logger directory at the beginning of the training in the message like this:\n",
    "\n",
    "Logging to /var/folders/mq/tgrn7bs17s1fnhlwt314b2fm0000gn/T/openai-2018-10-29-15-03-13-537078\n",
    "The location can be changed by changing OPENAI_LOGDIR environment variable. For instance, "
   ]
  },
  {
   "cell_type": "markdown",
   "metadata": {
    "colab_type": "text",
    "id": "WYwTBFMCn95w"
   },
   "source": [
    "Notice also the usage of `OPENAI_LOG_FORMAT` environment variable - this allows us to suppress printing to stdout. \n",
    "Permissible values for `OPENAI_LOG_FORMAT` environment variables are `stdout`, `log`, `csv`, and `tensorboard` (multiple values can be comma-separated). \n",
    "The latter one (`tensorboard`) dumps values in tensorboard format, which allows for their viewing in [TensorBoard](https://www.tensorflow.org/guide/summaries_and_tensorboard). TensorBoard provides nice visualization and in many cases is the easiest way to look at the summary of the results. However, if tensorboard visualization is not sufficient, read on...\n"
   ]
  },
  {
   "cell_type": "markdown",
   "metadata": {
    "colab_type": "text",
    "id": "QcWDWCfIojHy"
   },
   "source": [
    "## Loading results and plotting using matplotlib\n",
    "Bаselines provides helper functions to load the summaries of the results as pandas dataframes. \n",
    "For instance, the following:"
   ]
  },
  {
   "cell_type": "code",
   "execution_count": null,
   "metadata": {
    "colab": {
     "base_uri": "https://localhost:8080/",
     "height": 71
    },
    "colab_type": "code",
    "executionInfo": {
     "elapsed": 361,
     "status": "ok",
     "timestamp": 1541626398698,
     "user": {
      "displayName": "Peter Zhokhov",
      "photoUrl": "",
      "userId": "10254602425711636265"
     },
     "user_tz": 480
    },
    "id": "cDdZjFR2kFG2",
    "outputId": "09d91a7a-f851-459b-903a-f8c1d32ccb8e"
   },
   "outputs": [],
   "source": [
    "from common import plot_util as pu\n",
    "import pickle,os\n",
    "#results = pu.load_results('./ppo2_results/train_logs/test_ah_withreachgoal_noctrl/numsteps_7_lr_1/obs_idx_20/b2048_no_goal_loc_8_noobs_numsteps_7_lr_1_withreachgoal_noctrl-0') "
   ]
  },
  {
   "cell_type": "code",
   "execution_count": null,
   "metadata": {},
   "outputs": [],
   "source": [
    "from common import plot_util as pu\n",
    "import matplotlib.pyplot as plt\n",
    "import numpy as np\n",
    "import pickle,os\n",
    "for ref_stochastic in [0,1]:\n",
    "    for prsd in [7,15,16,17]:\n",
    "        ho=0.99995\n",
    "        if ho==0.9999:\n",
    "            dmep=500\n",
    "        elif ho==0.999:\n",
    "            dmep=100\n",
    "        elif ho==0.99995:\n",
    "            dmep=150\n",
    "        if ho==0.9999 and prsd==7:\n",
    "            raise\n",
    "        elif ho==0.9999 and prsd==17 and ref_stochastic:\n",
    "            raise\n",
    "        log_suf='_ho'+str(ho)+'_dmep'+str(dmep)+'_prsd'+str(prsd)\n",
    "        results_summary_plots='results_summary_plots'+'_ho'+str(ho)+'_prsd'+str(prsd) #prsd 17 is poorly trained ppo reference policy\n",
    "        if ref_stochastic:\n",
    "            results_summary_plots+='_refsto'\n",
    "        if not os.path.exists('./icra_plots_reacher/'+results_summary_plots+'/'):\n",
    "            os.makedirs('./icra_plots_reacher/'+results_summary_plots+'/')\n",
    "        if ref_stochastic:\n",
    "            log_pre='_refsto'\n",
    "            suf='_refsto'+log_suf\n",
    "        else:\n",
    "            log_pre=''\n",
    "            suf=''+log_suf\n",
    "        #suf+='_alpha1explore'\n",
    "        #suf+='_model_free_different_init_collection'\n",
    "        classify=True\n",
    "        if classify:\n",
    "            suf+='_clsf'\n",
    "        for no_regress in [0,1]:\n",
    "            if classify and no_regress:\n",
    "                    suf+='_noreg'\n",
    "            else:\n",
    "                no_regress=False\n",
    "\n",
    "            #key='min'\n",
    "            #results = pu.load_results('./icra_results/reacher_train_logs'+suf+'/'); print(len(results))\n",
    "            #results = pu.load_results('./icra_results/check_return_tmp/'); print(len(results))\n",
    "            results = pu.load_results('./icra_results/reacher'+log_pre+'_train_logs'+log_suf+'/'); \n",
    "            if classify and no_regress:\n",
    "                final_results = []\n",
    "                for i in results:\n",
    "                    if not 'b2048_AIP_alpha_auto-' in i.dirname:\n",
    "                        final_results.append(i)\n",
    "                results=final_results\n",
    "            print(len(results))\n",
    "            #results = pu.load_results('./icra_results/check_alpha_tmp/'); print(len(results))\n",
    "            #f, axarr, g2l= pu.plot_results_alpha(results,key=key,env='Reacher-v2', average_group=True, split_fn=lambda _: '', shaded_std=False)\n",
    "            f, axarr, g2l=pu.plot_results(results,env='Reacher-v2', average_group=True, split_fn=lambda _: '', shaded_std=False,aip_no_regress=no_regress)\n",
    "            plt.xlabel('Number of Data', fontsize=8)\n",
    "            plt.ylabel('Episode Returns', fontsize=8)\n",
    "            #plt.xlabel('Episodes so far', fontsize=8)\n",
    "            #plt.ylabel('Average '+key+' Alpha', fontsize=8)\n",
    "            plt.tight_layout()\n",
    "            plt.savefig('./icra_plots_reacher/'+results_summary_plots+'/compare_reacher'+suf+'.png')\n",
    "            plt.show()\n",
    "            #results = pu.load_results('./ppo2_results/train_logs/'); print(len(results))\n",
    "            #pu.plot_results(results, average_group=True, split_fn=lambda _: '', shaded_std=False)\n",
    "            #plt.savefig('./icra_results/c_ah_withreachgoal_ctrl1_loss.png')\n",
    "\n",
    "\n",
    "        import copy\n",
    "        #alpha_suf='_ho0.9999_dmep500_prsd7'\n",
    "        alpha_suf=copy.copy(log_suf)\n",
    "        if ref_stochastic:\n",
    "            alpha_suf='_refsto'+alpha_suf\n",
    "        for classify in [0,1]:\n",
    "            if classify:\n",
    "                keys_range=['percent']\n",
    "                alpha_suf+='_clsf'\n",
    "            else:\n",
    "                keys_range=['min','max','mean']\n",
    "            for key in keys_range:\n",
    "\n",
    "                #results = pu.load_results('./icra_results/reacher_train_logs'+suf+'/'); print(len(results))\n",
    "                #results = pu.load_results('./icra_results/check_return_tmp/'); print(len(results))\n",
    "                #results = pu.load_results('./icra_results/check_alpha_tmp/'); print(len(results))\n",
    "                results = pu.load_results('./icra_results/reacher'+log_pre+'_train_logs'+log_suf+'/'); \n",
    "                if classify:\n",
    "                    final_results = []\n",
    "                    for i in results:\n",
    "                        if 'b2048_AIP_alpha_auto_clf-' in i.dirname:\n",
    "                            final_results.append(i)\n",
    "                    results=final_results\n",
    "                else:\n",
    "                    final_results = []\n",
    "                    for i in results:\n",
    "                        if 'b2048_AIP_alpha_auto-' in i.dirname:\n",
    "                            final_results.append(i)\n",
    "                    results=final_results\n",
    "                print(len(results))\n",
    "                f, axarr, g2l= pu.plot_results_alpha(results,key=key,env='Reacher-v2', average_group=True, split_fn=lambda _: '', shaded_std=False)\n",
    "                #f, axarr, g2l=pu.plot_results(results,env='Reacher-v2', average_group=True, split_fn=lambda _: '', shaded_std=False)\n",
    "                #plt.xlabel('Number of Data', fontsize=8)\n",
    "                #plt.ylabel('Episode Returns', fontsize=8)\n",
    "                plt.xlabel('Episodes so far', fontsize=8)\n",
    "                plt.ylabel('Average '+key+' alpha', fontsize=8)\n",
    "                plt.tight_layout()\n",
    "                plt.savefig('./icra_plots_reacher/'+results_summary_plots+'/reacher_check_'+key+'_alpha'+alpha_suf+'.png')\n",
    "                plt.show()\n",
    "                #results = pu.load_results('./ppo2_results/train_logs/'); print(len(results))\n",
    "                #pu.plot_results(results, average_group=True, split_fn=lambda _: '', shaded_std=False)\n",
    "                #plt.savefig('./icra_results/c_ah_withreachgoal_ctrl1_loss.png')\n",
    "\n",
    "\n",
    "\n",
    "        #folder_suf='_ho0.9999_dmep500_prsd7'\n",
    "        folder_suf=copy.copy(log_suf)\n",
    "        if ref_stochastic:\n",
    "            folders_suf='_refsto'+folder_suf\n",
    "            model_suf='_refsto_models'+folder_suf\n",
    "        else:\n",
    "            folders_suf=''+folder_suf\n",
    "            model_suf='_models'+folder_suf\n",
    "        import os\n",
    "        if not os.path.exists('./icra_plots/'+results_summary_plots+'/reacher_alpha_every_eps'+folders_suf+'/'):\n",
    "            os.makedirs('./icra_plots/'+results_summary_plots+'/reacher_alpha_every_eps'+folders_suf+'/')\n",
    "\n",
    "        for classify in [0,1]:\n",
    "            for sd in range(5):\n",
    "                if classify:\n",
    "                    alphas_save_path='./icra_results/reacher'+model_suf+'/AIP_alpha_auto_clf_seed_'+str(sd)+'_alphas'\n",
    "                else:\n",
    "                    alphas_save_path='./icra_results/reacher'+model_suf+'/AIP_alpha_auto_seed_'+str(sd)+'_alphas'\n",
    "\n",
    "                with open(alphas_save_path,'rb') as pkl:\n",
    "                    all_eps_min_alphas,all_eps_max_alphas,all_eps_mean_alphas, all_eps_clf_alphas_percent= pickle.load(pkl)\n",
    "                plt.clf()\n",
    "                if not classify:\n",
    "                    plt.plot(all_eps_min_alphas,label='min_alphas')\n",
    "                    plt.plot(all_eps_max_alphas,label='max_alphas')\n",
    "                    plt.plot(all_eps_mean_alphas,label='mean_alphas')\n",
    "                else:\n",
    "                    plt.plot(all_eps_clf_alphas_percent,label='clf_alphas=1_percent')\n",
    "                plt.legend()\n",
    "                plt.xlabel('Episodes', fontsize=8)\n",
    "                plt.ylabel('Alpha', fontsize=8)\n",
    "                plt.tight_layout()\n",
    "                if not classify:\n",
    "                    plt.savefig('./icra_plots_reacher/'+results_summary_plots+'/reacher_alpha_every_eps'+folders_suf+'/seed_'+str(sd)+'.png')\n",
    "                else:\n",
    "                    plt.savefig('./icra_plots_reacher/'+results_summary_plots+'/reacher_alpha_every_eps'+folders_suf+'/seed_'+str(sd)+'_clf.png')\n",
    "                plt.show()"
   ]
  },
  {
   "cell_type": "code",
   "execution_count": null,
   "metadata": {},
   "outputs": [],
   "source": [
    "import copy\n",
    "#alpha_suf='_ho0.9999_dmep500_prsd7'\n",
    "alpha_suf=copy.copy(log_suf)\n",
    "if ref_stochastic:\n",
    "    alpha_suf='_refsto'+alpha_suf\n",
    "for classify in [0,1]:\n",
    "    if classify:\n",
    "        keys_range=['percent']\n",
    "        alpha_suf+='_clsf'\n",
    "    else:\n",
    "        keys_range=['min','max','mean']\n",
    "    for key in keys_range:\n",
    "\n",
    "        #results = pu.load_results('./icra_results/reacher_train_logs'+suf+'/'); print(len(results))\n",
    "        #results = pu.load_results('./icra_results/check_return_tmp/'); print(len(results))\n",
    "        #results = pu.load_results('./icra_results/check_alpha_tmp/'); print(len(results))\n",
    "        results = pu.load_results('./icra_results/reacher'+log_pre+'_train_logs'+log_suf+'/'); \n",
    "        if classify:\n",
    "            final_results = []\n",
    "            for i in results:\n",
    "                if 'b2048_AIP_alpha_auto_clf-' in i.dirname:\n",
    "                    final_results.append(i)\n",
    "            results=final_results\n",
    "        else:\n",
    "            final_results = []\n",
    "            for i in results:\n",
    "                if 'b2048_AIP_alpha_auto-' in i.dirname:\n",
    "                    final_results.append(i)\n",
    "            results=final_results\n",
    "        print(len(results))\n",
    "        f, axarr, g2l= pu.plot_results_alpha(results,key=key,env='Reacher-v2', average_group=True, split_fn=lambda _: '', shaded_std=False)\n",
    "        #f, axarr, g2l=pu.plot_results(results,env='Reacher-v2', average_group=True, split_fn=lambda _: '', shaded_std=False)\n",
    "        #plt.xlabel('Number of Data', fontsize=8)\n",
    "        #plt.ylabel('Episode Returns', fontsize=8)\n",
    "        plt.xlabel('Episodes so far', fontsize=8)\n",
    "        plt.ylabel('Average '+key+' alpha', fontsize=8)\n",
    "        plt.tight_layout()\n",
    "        plt.savefig('./icra_plots_reacher/'+results_summary_plots+'/reacher_check_'+key+'_alpha'+alpha_suf+'.png')\n",
    "        #results = pu.load_results('./ppo2_results/train_logs/'); print(len(results))\n",
    "        #pu.plot_results(results, average_group=True, split_fn=lambda _: '', shaded_std=False)\n",
    "        #plt.savefig('./icra_results/c_ah_withreachgoal_ctrl1_loss.png')"
   ]
  },
  {
   "cell_type": "code",
   "execution_count": null,
   "metadata": {},
   "outputs": [],
   "source": [
    "#folder_suf='_ho0.9999_dmep500_prsd7'\n",
    "folder_suf=copy.copy(log_suf)\n",
    "if ref_stochastic:\n",
    "    folders_suf='_refsto'+folder_suf\n",
    "    model_suf='_refsto_models'+folder_suf\n",
    "else:\n",
    "    folders_suf=''+folder_suf\n",
    "    model_suf='_models'+folder_suf\n",
    "import os\n",
    "if not os.path.exists('./icra_plots/'+results_summary_plots+'/reacher_alpha_every_eps'+folders_suf+'/'):\n",
    "    os.makedirs('./icra_plots/'+results_summary_plots+'/reacher_alpha_every_eps'+folders_suf+'/')\n",
    "\n",
    "for classify in [0,1]:\n",
    "    for sd in range(5):\n",
    "        if classify:\n",
    "            alphas_save_path='./icra_results/reacher'+model_suf+'/AIP_alpha_auto_clf_seed_'+str(sd)+'_alphas'\n",
    "        else:\n",
    "            alphas_save_path='./icra_results/reacher'+model_suf+'/AIP_alpha_auto_seed_'+str(sd)+'_alphas'\n",
    "\n",
    "        with open(alphas_save_path,'rb') as pkl:\n",
    "            all_eps_min_alphas,all_eps_max_alphas,all_eps_mean_alphas, all_eps_clf_alphas_percent= pickle.load(pkl)\n",
    "        plt.clf()\n",
    "        if not classify:\n",
    "            plt.plot(all_eps_min_alphas,label='min_alphas')\n",
    "            plt.plot(all_eps_max_alphas,label='max_alphas')\n",
    "            plt.plot(all_eps_mean_alphas,label='mean_alphas')\n",
    "        else:\n",
    "            plt.plot(all_eps_clf_alphas_percent,label='clf_alphas=1_percent')\n",
    "        plt.legend()\n",
    "        plt.xlabel('Episodes', fontsize=8)\n",
    "        plt.ylabel('Alpha', fontsize=8)\n",
    "        plt.tight_layout()\n",
    "        if not classify:\n",
    "            plt.savefig('./icra_plots_reacher/'+results_summary_plots+'/reacher_alpha_every_eps'+folders_suf+'/seed_'+str(sd)+'.png')\n",
    "        else:\n",
    "            plt.savefig('./icra_plots_reacher/'+results_summary_plots+'/reacher_alpha_every_eps'+folders_suf+'/seed_'+str(sd)+'_clf.png')\n",
    "        plt.show()"
   ]
  },
  {
   "cell_type": "code",
   "execution_count": null,
   "metadata": {},
   "outputs": [],
   "source": []
  },
  {
   "cell_type": "code",
   "execution_count": null,
   "metadata": {},
   "outputs": [],
   "source": [
    "g2l.update({'laa':234})\n",
    "g2l"
   ]
  },
  {
   "cell_type": "code",
   "execution_count": null,
   "metadata": {},
   "outputs": [],
   "source": [
    "plt.plot(-6*np.ones(100000),':',label='optimal')"
   ]
  },
  {
   "cell_type": "markdown",
   "metadata": {
    "colab_type": "text",
    "id": "sj3jfhbBpGPq"
   },
   "source": [
    "will search for all folders with baselines-compatible results in ~/logs/cartpole-ppo and subfolders and return a list of `Result` objects. Each `Result` object is a named tuple with the following fields:\n",
    "\n",
    "  * dirname: str - name of the folder from which data was loaded\n",
    "  \n",
    "  * metadata: dict) - dictionary with various metadata (read from metadata.json file)\n",
    "\n",
    "  * progress: pandas.DataFrame - tabular data saved by logger as a pandas dataframe. Available if csv is in logger formats.\n",
    "\n",
    "  * monitor: pandas.DataFrame - raw episode data (length, episode reward, timestamp). Available if environment wrapped with Monitor wrapper\n",
    "  \n",
    "Thus, a learning curve from a single run can be plotted as follows (note the cumulative sum trick to get convert lengths of the episodes into number of time steps taken so far)\n",
    " "
   ]
  },
  {
   "cell_type": "code",
   "execution_count": null,
   "metadata": {
    "colab": {
     "base_uri": "https://localhost:8080/",
     "height": 364
    },
    "colab_type": "code",
    "executionInfo": {
     "elapsed": 635,
     "status": "ok",
     "timestamp": 1541626401733,
     "user": {
      "displayName": "Peter Zhokhov",
      "photoUrl": "",
      "userId": "10254602425711636265"
     },
     "user_tz": 480
    },
    "id": "jEBxUzvVsNbP",
    "outputId": "7b7016a5-6f94-4384-821d-a9e197211315"
   },
   "outputs": [],
   "source": [
    "import matplotlib.pyplot as plt\n",
    "import numpy as np\n",
    "r = results[0]\n",
    "#plt.plot(np.cumsum(r.monitor.l), r.monitor.r)"
   ]
  },
  {
   "cell_type": "markdown",
   "metadata": {
    "colab_type": "text",
    "id": "lLGJgLFjqLDB"
   },
   "source": [
    "The raw learning curve from a single run can be very noisy. To smoothen it and analyze if any learning actually takes place, we can use `plot_util.smooth()` function:"
   ]
  },
  {
   "cell_type": "code",
   "execution_count": null,
   "metadata": {
    "colab": {
     "base_uri": "https://localhost:8080/",
     "height": 364
    },
    "colab_type": "code",
    "executionInfo": {
     "elapsed": 514,
     "status": "ok",
     "timestamp": 1541626405684,
     "user": {
      "displayName": "Peter Zhokhov",
      "photoUrl": "",
      "userId": "10254602425711636265"
     },
     "user_tz": 480
    },
    "id": "Rz4vAnURuURX",
    "outputId": "f5e38cd7-c63c-4b9c-aaa0-b24592b636ba"
   },
   "outputs": [],
   "source": [
    "#plt.plot(np.cumsum(r.monitor.l), pu.smooth(r.monitor.r, radius=10))"
   ]
  },
  {
   "cell_type": "markdown",
   "metadata": {
    "colab_type": "text",
    "id": "_e-NRHW8qoMF"
   },
   "source": [
    "Similar curve can be obtained by using logger summaries (instead of raw episode data in monitor.csv):\n"
   ]
  },
  {
   "cell_type": "code",
   "execution_count": null,
   "metadata": {
    "colab": {
     "base_uri": "https://localhost:8080/",
     "height": 364
    },
    "colab_type": "code",
    "executionInfo": {
     "elapsed": 619,
     "status": "ok",
     "timestamp": 1541626409332,
     "user": {
      "displayName": "Peter Zhokhov",
      "photoUrl": "",
      "userId": "10254602425711636265"
     },
     "user_tz": 480
    },
    "id": "E2PawoKEua1N",
    "outputId": "02c4b58e-b665-4534-d02c-24c5862e473f"
   },
   "outputs": [],
   "source": [
    "#plt.plot(r.progress['misc/total_timesteps'], r.progress.eprewmean)\n",
    "plt.plot(r.progress.eprewmean)\n",
    "plt.ylabel('Average Return Over 100 Episodes')\n",
    "plt.xlabel('PPO Updates')\n",
    "plt.savefig('./ppo2_results/test_ah_single_loss_withreachgoal_noctrl/ah_lr_1_total_timesteps_10000000_single_seed_0_obs_idx_20_no_goal_loc_8_noobs_withreachgoal_noctrl_loss.png')"
   ]
  },
  {
   "cell_type": "markdown",
   "metadata": {
    "colab_type": "text",
    "id": "2iI5DRKArEVl"
   },
   "source": [
    "Note, however, that raw episode data is stored by the Monitor wrapper, and hence looks similar for all algorithms, whereas progress data is handled by the algorithm itself, and hence can vary (column names, type of data available) between algorithms."
   ]
  },
  {
   "cell_type": "markdown",
   "metadata": {
    "colab_type": "text",
    "id": "ETICR8zsrKg2"
   },
   "source": [
    "## Plotting: many curves\n",
    "While the loading and plotting functions described above in principle give you access to any slice of the training summaries, sometimes it is necessary to plot and compare many training runs (multiple algorithms, multiple seeds for random number generator), and usage of the functions above can get tedious and messy. For that case, `baselines.common.plot_util` provides convenience function plot_results that handles multiple `Result` objects that need to be routed in multiple plots. Consider the following bash snippet that runs ppo2 with cartpole with 6 different seeds for 30k time steps, first with rollout batch size 32, and then with batch size 128 (note that the next cell will take a little while to run):"
   ]
  },
  {
   "cell_type": "code",
   "execution_count": null,
   "metadata": {
    "colab": {
     "base_uri": "https://localhost:8080/",
     "height": 629
    },
    "colab_type": "code",
    "executionInfo": {
     "elapsed": 470993,
     "status": "ok",
     "timestamp": 1541626885128,
     "user": {
      "displayName": "Peter Zhokhov",
      "photoUrl": "",
      "userId": "10254602425711636265"
     },
     "user_tz": 480
    },
    "id": "OLEYIE95ue2e",
    "outputId": "d1f2760b-1433-4b73-c5ce-ceace66e07cc"
   },
   "outputs": [],
   "source": [
    "!for seed in $(seq 0 9); do OPENAI_LOG_FORMAT=csv python3 -m run --alg=ppo2 --env=corl_Acrobot-v1 --network=mlp --num_timesteps=1e6 --log_path=./ppo2_results/train_logs/corl_Acrobot-v1/b2048_goal_height_1.0-$seed/ --log_interval=1 --save_path=./ppo2_results/models/corl_Acrobot-v1/goal_height_1.0_seed_$seed --with_obs=0 --obs_idx=20 --ah_with_goal_loc=0 --ah_goal_loc_idx=8 --goal_height=1.0 --num_eval_eps=2 --compare=True --compare_ah_idx=7 --reacher_sd=2 --acrobot_sd=1 --need_eval=False --plot_single_loss=True --seed=$seed; done\n",
    "!for seed in $(seq 0 9); do OPENAI_LOG_FORMAT=csv python3 -m run --alg=ppo2 --env=corl_Reacher-v2 --network=mlp --num_timesteps=1e6 --log_path=./ppo2_results/train_logs/corl_Reacher-v2/b2048-$seed/ --log_interval=1 --save_path=./ppo2_results/models/corl_Reacher-v2/seed_$seed --with_obs=0 --obs_idx=20 --ah_with_goal_loc=0 --ah_goal_loc_idx=8 --goal_height=1.0 --num_eval_eps=2 --compare=True --compare_ah_idx=7 --reacher_sd=2 --acrobot_sd=1 --need_eval=False --plot_single_loss=True --seed=$seed; done"
   ]
  },
  {
   "cell_type": "code",
   "execution_count": null,
   "metadata": {},
   "outputs": [],
   "source": [
    "!for seed in $(seq 2 9); do OPENAI_LOG_FORMAT=csv python3 -m run --alg=ppo2 --env=ah --network=mlp --num_timesteps=1e6 --log_path=./ppo2_results/train_logs/test_ah_withreachgoal_ctrl1/obs_idx_20/b2048_no_goal_loc_7_noobs_ctrl1-$seed/ --log_interval=1 --save_path=./ppo2_results/models/test_ah_withreachgoal_ctrl1/no_goal_loc_7_noobs_ctrl1_seed_$seed --with_obs=0 --obs_idx=20 --ah_with_goal_loc=0 --ah_goal_loc_idx=7 --goal_height=1.0 --num_eval_eps=2 --compare=True --compare_ah_idx=7 --reacher_sd=2 --acrobot_sd=1 --need_eval=False --plot_single_loss=True --single_loss_suf=_withreachgoal_ctrl1 --ctrl_rwd=1 --seed=$seed; done\n",
    "!for seed in $(seq 2 9); do OPENAI_LOG_FORMAT=csv python3 -m run --alg=ppo2 --env=ah --network=mlp --num_timesteps=1e6 --log_path=./ppo2_results/train_logs/test_ah_withreachgoal_ctrl1/obs_idx_20/b2048_no_goal_loc_8_noobs_ctrl1-$seed/ --log_interval=1 --save_path=./ppo2_results/models/test_ah_withreachgoal_ctrl1/no_goal_loc_8_noobs_ctrl1_seed_$seed --with_obs=0 --obs_idx=20 --ah_with_goal_loc=0 --ah_goal_loc_idx=8 --goal_height=1.0 --num_eval_eps=2 --compare=True --compare_ah_idx=7 --reacher_sd=2 --acrobot_sd=1 --need_eval=False --plot_single_loss=True --single_loss_suf=_withreachgoal_ctrl1 --ctrl_rwd=1 --seed=$seed; done\n",
    "!for seed in $(seq 2 9); do OPENAI_LOG_FORMAT=csv python3 -m run --alg=ppo2 --env=ah --network=mlp --num_timesteps=1e6 --log_path=./ppo2_results/train_logs/test_ah_withreachgoal/obs_idx_20/b2048_no_goal_loc_7_noobs-$seed/ --log_interval=1 --save_path=./ppo2_results/models/test_ah_withreachgoal/no_goal_loc_7_noobs_seed_$seed --with_obs=0 --obs_idx=20 --ah_with_goal_loc=0 --ah_goal_loc_idx=7 --goal_height=1.0 --num_eval_eps=2 --compare=True --compare_ah_idx=7 --reacher_sd=2 --acrobot_sd=1 --need_eval=False --plot_single_loss=True --single_loss_suf=_withreachgoal --ctrl_rwd=0 --seed=$seed; done\n",
    "!for seed in $(seq 2 9); do OPENAI_LOG_FORMAT=csv python3 -m run --alg=ppo2 --env=ah --network=mlp --num_timesteps=1e6 --log_path=./ppo2_results/train_logs/test_ah_withreachgoal/obs_idx_20/b2048_no_goal_loc_8_noobs-$seed/ --log_interval=1 --save_path=./ppo2_results/models/test_ah_withreachgoal/no_goal_loc_8_noobs_seed_$seed --with_obs=0 --obs_idx=20 --ah_with_goal_loc=0 --ah_goal_loc_idx=8 --goal_height=1.0 --num_eval_eps=2 --compare=True --compare_ah_idx=7 --reacher_sd=2 --acrobot_sd=1 --need_eval=False --plot_single_loss=True --single_loss_suf=_withreachgoal --ctrl_rwd=0 --seed=$seed; done"
   ]
  },
  {
   "cell_type": "code",
   "execution_count": null,
   "metadata": {},
   "outputs": [],
   "source": [
    "!for seed in $(seq 5 9); do OPENAI_LOG_FORMAT=csv python3 -m run --alg=ppo2 --env=ah --network=mlp --num_timesteps=1e6 --log_path=./ppo2_results/train_logs/test_ah_withreachgoal/obs_idx_20/b2048_no_goal_loc_7_noobs-$seed/ --log_interval=1 --save_path=./ppo2_results/models/test_ah_withreachgoal/no_goal_loc_7_noobs_seed_$seed --with_obs=0 --obs_idx=20 --ah_with_goal_loc=0 --ah_goal_loc_idx=7 --goal_height=1.0 --num_eval_eps=2 --compare=True --compare_ah_idx=7 --reacher_sd=2 --acrobot_sd=1 --need_eval=False --plot_single_loss=True --single_loss_suf=_withreachgoal --ctrl_rwd=0 --seed=$seed; done\n",
    "!for seed in $(seq 2 9); do OPENAI_LOG_FORMAT=csv python3 -m run --alg=ppo2 --env=ah --network=mlp --num_timesteps=1e6 --log_path=./ppo2_results/train_logs/test_ah_withreachgoal/obs_idx_20/b2048_no_goal_loc_8_noobs-$seed/ --log_interval=1 --save_path=./ppo2_results/models/test_ah_withreachgoal/no_goal_loc_8_noobs_seed_$seed --with_obs=0 --obs_idx=20 --ah_with_goal_loc=0 --ah_goal_loc_idx=8 --goal_height=1.0 --num_eval_eps=2 --compare=True --compare_ah_idx=7 --reacher_sd=2 --acrobot_sd=1 --need_eval=False --plot_single_loss=True --single_loss_suf=_withreachgoal --ctrl_rwd=0 --seed=$seed; done"
   ]
  },
  {
   "cell_type": "markdown",
   "metadata": {
    "colab_type": "text",
    "id": "XzG8DDNwrwbG"
   },
   "source": [
    "The results of 12 runs from the cell above can be loaded just as before, via (we discard first result that is actually from the very first run in the previous section):"
   ]
  },
  {
   "cell_type": "code",
   "execution_count": null,
   "metadata": {
    "colab": {
     "base_uri": "https://localhost:8080/",
     "height": 88
    },
    "colab_type": "code",
    "executionInfo": {
     "elapsed": 319,
     "status": "ok",
     "timestamp": 1541629440197,
     "user": {
      "displayName": "Peter Zhokhov",
      "photoUrl": "",
      "userId": "10254602425711636265"
     },
     "user_tz": 480
    },
    "id": "cNKemLHPv03E",
    "outputId": "8ff4813e-23f3-4696-a531-6ef3bd12c569"
   },
   "outputs": [],
   "source": [
    "results = pu.load_results('./ppo2_results/train_logs/test_ah_withreachgoal/obs_idx_20/'); print(len(results))\n",
    "pu.plot_results(results, average_group=True, split_fn=lambda _: '', shaded_std=False)\n",
    "plt.savefig('./ppo2_results/c_ah_withreachgoal_loss.png')\n",
    "results = pu.load_results('./ppo2_results/train_logs/test_ah_withreachgoal_ctrl1/obs_idx_20/'); print(len(results))\n",
    "pu.plot_results(results, average_group=True, split_fn=lambda _: '', shaded_std=False)\n",
    "plt.savefig('./ppo2_results/c_ah_withreachgoal_ctrl1_loss.png')"
   ]
  },
  {
   "cell_type": "code",
   "execution_count": null,
   "metadata": {},
   "outputs": [],
   "source": []
  },
  {
   "cell_type": "markdown",
   "metadata": {
    "colab_type": "text",
    "id": "xy388w_tssIL"
   },
   "source": [
    "But how do we plot all 12 of them in a sensible manner? `baselines.common.plot_util` module provides plot_results function to do just that:"
   ]
  },
  {
   "cell_type": "markdown",
   "metadata": {
    "colab_type": "text",
    "id": "uUNu5fEfsvot"
   },
   "source": [
    "The results are split into two groups based on batch size and are plotted on a separate graph. More specifically, by default plot_results considers digits after dash at the end of the directory name to be seed id and groups the runs that differ only by those together.\n",
    "\n",
    "Showing all seeds on the same plot may be somewhat hard to comprehend and analyse. We can instead average over all seeds via the following command:"
   ]
  },
  {
   "cell_type": "code",
   "execution_count": null,
   "metadata": {
    "colab": {
     "base_uri": "https://localhost:8080/",
     "height": 937
    },
    "colab_type": "code",
    "executionInfo": {
     "elapsed": 848,
     "status": "ok",
     "timestamp": 1541629456405,
     "user": {
      "displayName": "Peter Zhokhov",
      "photoUrl": "",
      "userId": "10254602425711636265"
     },
     "user_tz": 480
    },
    "id": "7d_aeRYXacFP",
    "outputId": "22554c64-b5a5-4892-81d0-8a7d0d3569a4"
   },
   "outputs": [],
   "source": [
    "results = pu.load_results('./ppo2_results/train_logs/corl_Acrobot-v1'); print(len(results))\n",
    "pu.plot_results(results, average_group=True, shaded_std=False)\n",
    "plt.savefig('./ppo2_results/corl_Acrobot-v1_loss.png')\n",
    "results = pu.load_results('./ppo2_results/train_logs/corl_Reacher-v2'); print(len(results))\n",
    "pu.plot_results(results, average_group=True,shaded_std=False)\n",
    "plt.savefig('./ppo2_results/corl_Reacher-v2_loss.png')\n",
    "#pu.plot_results(results, average_group=True, split_fn=lambda _: '', shaded_std=False)"
   ]
  },
  {
   "cell_type": "markdown",
   "metadata": {
    "colab_type": "text",
    "id": "iA89jxdgtElg"
   },
   "source": [
    "The lighter shade shows the standard deviation of data, and darker shade - error in estimate of the mean (that is, standard deviation divided by square root of number of seeds). Note that averaging over seeds requires resampling to a common grid, which, in turn, requires smoothing (using language of signal processing, we need to do low-pass filtering before resampling to avoid aliasing effects). You can change the amount of smoothing by adjusting `resample` and `smooth_step` arguments to achieve desired smoothing effect See the docstring of plot_util function for more info.\n",
    "\n",
    "To plot both groups on the same graph, we can use the following:"
   ]
  },
  {
   "cell_type": "code",
   "execution_count": null,
   "metadata": {
    "colab": {
     "base_uri": "https://localhost:8080/",
     "height": 488
    },
    "colab_type": "code",
    "executionInfo": {
     "elapsed": 581,
     "status": "ok",
     "timestamp": 1541629463814,
     "user": {
      "displayName": "Peter Zhokhov",
      "photoUrl": "",
      "userId": "10254602425711636265"
     },
     "user_tz": 480
    },
    "id": "_5IMVF3EGBMD",
    "outputId": "b29e81b6-8a57-4007-fe31-86652b7ee1e5"
   },
   "outputs": [],
   "source": [
    "pu.plot_results(results, average_group=True, split_fn=lambda _: '')"
   ]
  },
  {
   "cell_type": "markdown",
   "metadata": {
    "colab_type": "text",
    "id": "ABZmMmCmtQ1X"
   },
   "source": [
    "Option `split_fn=labmda _:''` effectively disables splitting, so that all curves end up on the same panel.\n",
    "\n",
    "Now, with many groups the overlapping shaded regions may start looking messy. We can disable either light shaded region (corresponding to standard deviation of the curves in the group) or darker shaded region (corresponding to the error in mean estimate) by using `shaded_std=False` or `shaded_err=False` options respectively. For instance,"
   ]
  },
  {
   "cell_type": "code",
   "execution_count": null,
   "metadata": {
    "colab": {
     "base_uri": "https://localhost:8080/",
     "height": 488
    },
    "colab_type": "code",
    "executionInfo": {
     "elapsed": 546,
     "status": "ok",
     "timestamp": 1541629471846,
     "user": {
      "displayName": "Peter Zhokhov",
      "photoUrl": "",
      "userId": "10254602425711636265"
     },
     "user_tz": 480
    },
    "id": "x4rVG6RGI31B",
    "outputId": "a036e51d-b6c6-4855-ce5a-a42c149a59ee"
   },
   "outputs": [],
   "source": [
    "pu.plot_results(results, average_group=True, split_fn=lambda _: '', shaded_std=False)"
   ]
  },
  {
   "cell_type": "code",
   "execution_count": null,
   "metadata": {
    "colab": {},
    "colab_type": "code",
    "id": "YMA86VtfI8d5"
   },
   "outputs": [],
   "source": []
  }
 ],
 "metadata": {
  "colab": {
   "collapsed_sections": [],
   "name": "baselines_viz.ipynb",
   "provenance": [],
   "version": "0.3.2"
  },
  "kernelspec": {
   "display_name": "Python 3",
   "language": "python",
   "name": "python3"
  },
  "language_info": {
   "codemirror_mode": {
    "name": "ipython",
    "version": 3
   },
   "file_extension": ".py",
   "mimetype": "text/x-python",
   "name": "python",
   "nbconvert_exporter": "python",
   "pygments_lexer": "ipython3",
   "version": "3.6.5"
  }
 },
 "nbformat": 4,
 "nbformat_minor": 4
}
