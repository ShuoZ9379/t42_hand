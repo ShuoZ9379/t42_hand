{
 "cells": [
  {
   "cell_type": "code",
   "execution_count": 1,
   "metadata": {},
   "outputs": [
    {
     "name": "stdout",
     "output_type": "stream",
     "text": [
      "[ 19.71323776 108.40877533  40.21877289 -65.48919678] [2.45083594 0.4477919  9.41849136 7.73077106]\n"
     ]
    },
    {
     "name": "stderr",
     "output_type": "stream",
     "text": [
      "/usr/local/lib/python3.6/site-packages/torch/serialization.py:657: SourceChangeWarning: source code of class 'common.TrajNet.TrajNet' has changed. you can retrieve the original source code by accessing the object's source attribute or set `torch.nn.Module.dump_patches = True` and use the patch tool to revert the changes.\n",
      "  warnings.warn(msg, SourceChangeWarning)\n"
     ]
    }
   ],
   "source": [
    "import torch\n",
    "import numpy as np \n",
    "import matplotlib.pyplot as plt\n",
    "import glob,pickle,os,copy,sys,random,time\n",
    "from scipy.spatial import ConvexHull\n",
    "from scipy.spatial import Delaunay\n",
    "#goal reach distance is 4, effective load is 1\n",
    "def get_ground_truth(gd,gd_next):\n",
    "    traj=[gd[0,:2]]\n",
    "    for i in range(gd.shape[0]-1):\n",
    "        if (gd_next[i,:]==gd[i+1,:]).all():\n",
    "            traj.append(gd[i+1,:2])\n",
    "        else:\n",
    "            traj.append(gd_next[i,:2])\n",
    "            traj.append(gd[i+1,:2])\n",
    "    traj.append(gd_next[-1,:2])\n",
    "    return np.array(traj)\n",
    "def gen_init_state(init_mu,init_sigma,run_idx):\n",
    "    np.random.seed(run_idx)\n",
    "    if run_idx==0:\n",
    "        init=init_mu\n",
    "        return init\n",
    "    else:\n",
    "        init=np.random.normal(init_mu,init_sigma)\n",
    "        return init\n",
    "def in_hull(p,H1,H2):\n",
    "    if H1.find_simplex(p)>=0 and H2.find_simplex(p)<0:\n",
    "        return True\n",
    "    else:\n",
    "        return False\n",
    "loccc='Downloads/t42_hand'\n",
    "model_path='/Users/zsbjltwjj/'+loccc+'/zs_sim_robot/trans_model_data/real_ah_wm_v0.1/model_lr0.0002_val0.1_seed0_nn_2_dp_0.1_nodes_200_epochs_10'\n",
    "norm_path='/Users/zsbjltwjj/'+loccc+'/zs_sim_robot/trans_model_data/real_ah_wm_v0.1/normalization/normalization_arr'\n",
    "#norm_path='/Users/zsbjltwjj/'+loccc+'/zs_sim_robot/trans_model_data/real_ah_avi/normalization/normalization_arr'\n",
    "#norm_path='/Users/zsbjltwjj/'+loccc+'/zs_sim_robot/trans_model_data/real_ah_nm_v1.6/normalization/normalization_arr'\n",
    "goal_path='/Users/zsbjltwjj/Downloads/t42_hand/t42_control/rollout_t42/set/goals.png'\n",
    "set_path='/Users/zsbjltwjj/Downloads/t42_hand/t42_control/rollout_t42/set/astar_set/'\n",
    "set_mode='astar'\n",
    "\n",
    "#if not os.path.exists(set_path):\n",
    "#    os.makedirs(set_path)\n",
    "if not os.path.exists(set_path):\n",
    "    os.makedirs(set_path)\n",
    "with open(model_path, 'rb') as pickle_file:\n",
    "    model = torch.load(pickle_file, map_location='cpu')\n",
    "with open(norm_path, 'rb') as pickle_file:\n",
    "    x_norm_arr, y_norm_arr = pickle.load(pickle_file)\n",
    "    x_mean_arr, x_std_arr = x_norm_arr[0], x_norm_arr[1]\n",
    "    y_mean_arr, y_std_arr = y_norm_arr[0], y_norm_arr[1]\n",
    "    init_mu=x_mean_arr[-4:]\n",
    "    init_sigma=x_std_arr[-4:]\n",
    "print(init_mu,init_sigma)"
   ]
  },
  {
   "cell_type": "code",
   "execution_count": 2,
   "metadata": {},
   "outputs": [
    {
     "data": {
      "image/png": "[encoded data removed]",
      "text/plain": [
       "<Figure size 720x252 with 1 Axes>"
      ]
     },
     "metadata": {
      "needs_background": "light"
     },
     "output_type": "display_data"
    }
   ],
   "source": [
    "Goal = np.array([[-35, 80],[-10, 100],[50, 100], [75, 80]])\n",
    "fig, ax = plt.subplots(figsize=(10,3.5))\n",
    "inx = [0,1,2,3]\n",
    "for i in inx:\n",
    "    ctr = Goal[i]\n",
    "    goal_plan = plt.Circle((ctr[0], ctr[1]), 4., color='m')\n",
    "    ax.add_artist(goal_plan)\n",
    "    plt.text(ctr[0]-1.5, ctr[1]-1.5, str(i), fontsize=20) \n",
    "plt.plot(init_mu[0],init_mu[1], 'o', markersize=16, color ='r')\n",
    "plt.xlim([-50, 90])\n",
    "#plt.xlim([-60, 120])\n",
    "plt.ylim([70, 120])\n",
    "#plt.ylim([50, 120])\n",
    "plt.xlabel('x')\n",
    "plt.ylabel('y')\n",
    "plt.savefig(goal_path, dpi=200)"
   ]
  },
  {
   "cell_type": "code",
   "execution_count": 3,
   "metadata": {},
   "outputs": [],
   "source": [
    "def normalize(data,x_std_arr,x_mean_arr):\n",
    "    return (data - x_mean_arr[:data.shape[-1]]) / x_std_arr[:data.shape[-1]]\n",
    "def denormalize(data,y_std_arr,y_mean_arr):\n",
    "    return data * y_std_arr[:data.shape[-1]] + y_mean_arr[:data.shape[-1]]\n",
    "\n",
    "def dist(start_loc,end_loc):\n",
    "    return np.linalg.norm(end_loc-start_loc)\n",
    "def calc_g(parent,child):\n",
    "    return parent.g+dist(parent.loc,child.loc)\n",
    "def calc_step(parent,child):\n",
    "    return parent.step+1\n",
    "def calc_h(child,goal_loc):\n",
    "    return dist(child.loc,goal_loc)\n",
    "\n",
    "def priority_sort(f_fringe):\n",
    "    index=np.random.choice(np.argwhere(f_fringe==np.min(f_fringe)).reshape(-1),1)[0]\n",
    "    return index\n",
    "\n",
    "def mstep_predict(num_steps,state,init_state,ac,model,x_std_arr,x_mean_arr,y_std_arr,y_mean_arr):\n",
    "    next_state_arr=np.empty((0,4))\n",
    "    for i in range(num_steps):\n",
    "        sa=np.concatenate([state,ac,init_state])\n",
    "        inpt = normalize(sa,x_std_arr,x_mean_arr)\n",
    "        inpt = torch.tensor(inpt, dtype=torch.float)\n",
    "        state_delta = model(inpt)    \n",
    "        state_delta = state_delta.detach().numpy()\n",
    "        state_delta = denormalize(state_delta,y_std_arr,y_mean_arr)\n",
    "        next_state= sa[:4] + state_delta\n",
    "        next_state_arr=np.concatenate((next_state_arr,next_state.reshape(1,4)),axis=0)\n",
    "        state=next_state\n",
    "    return next_state, next_state_arr\n",
    "\n",
    "class mnode(object):\n",
    "    def __init__(self,ac_weight,state,init_state,num_steps,state_h):\n",
    "        self.num_steps=num_steps\n",
    "        self.ac_weight=ac_weight\n",
    "        self.state=state\n",
    "        self.loc=state[:2]\n",
    "        self.load=state[2:]\n",
    "        self.init_state=init_state\n",
    "        self.state_h=state_h\n",
    "        self.prev=None\n",
    "        self.g=0\n",
    "        self.ng=0\n",
    "        self.step=0\n",
    "        self.f=0\n",
    "        self.action=np.repeat(np.array([0,0]).reshape(1,2),num_steps,axis=0)\n",
    "    def add_prev(self,prev_node,action):\n",
    "        self.prev=prev_node\n",
    "        self.g=calc_g(prev_node,self)\n",
    "        self.ng=0\n",
    "        self.step=calc_step(prev_node,self)\n",
    "        self.action=np.repeat(action.reshape(1,2),self.num_steps,axis=0)\n",
    "    def calc_f(self,h,action,goal_loc,mode=''):\n",
    "        w_turnover=0\n",
    "        self.f=self.g+1000*w_turnover\n",
    "        self.f=self.f+h\n",
    "        w_ac=0\n",
    "        if (action==np.array([1,1])).all() or (action==np.array([-1,-1])).all():\n",
    "            w_ac=1\n",
    "        self.f=self.f+self.ac_weight*w_ac\n",
    "        #self.f=self.ng+h\n",
    "        #self.f=self.step+h\n",
    "def mstep_isvalid(child,goal_loc,big_goal_radius,init_x_loc):\n",
    "    if not ((np.abs(child.state_h[:,2:])>=1).all() and (np.abs(child.state_h[:,2:])<=280).all()): \n",
    "        return False\n",
    "    elif (child.state_h[-1,0]-init_x_loc)*(goal_loc[0]-init_x_loc)<=0:\n",
    "        return False\n",
    "    else:\n",
    "        return True\n",
    "\n",
    "    \n",
    "def Astar_discrete_mstep_stomodel(ac_weight,num_steps,initial_state,goal_loc,model,x_std_arr,x_mean_arr,y_std_arr,y_mean_arr,big_goal_radius=4.,mode=''):\n",
    "    actions=[np.array([-1,1]),np.array([1,-1]),np.array([1,1]),np.array([-1,-1]),np.array([0,1]),np.array([1,0]),np.array([0,-1]),np.array([-1,0])]\n",
    "    \n",
    "    initial=mnode(ac_weight,initial_state,initial_state,num_steps,np.repeat(initial_state.reshape(1,4),num_steps,axis=0))\n",
    "    fringe=[initial]\n",
    "    state_fringe=[initial.state]\n",
    "    f_fringe=[initial.f]\n",
    "    state_closed_set=[]\n",
    "    \n",
    "    max_size_fringe=1\n",
    "    num_expanded_nodes=0\n",
    "    tstart=time.time()\n",
    "    print_times=0\n",
    "    pt_first=True\n",
    "    while len(fringe)!=0:\n",
    "        index=priority_sort(f_fringe)\n",
    "        state_fringe.pop(index)\n",
    "        f_fringe.pop(index)\n",
    "        cur=fringe.pop(index)\n",
    "        #print(calc_h(cur,goal_loc))\n",
    "        #print(len(f_fringe))\n",
    "        #print(cur.f)\n",
    "        #print(cur.action[-1,:])\n",
    "        \n",
    "        tm=time.time()-tstart\n",
    "        if tm>=360000:\n",
    "            break\n",
    "        elif tm>=print_times*600:\n",
    "            print_times+=1\n",
    "            print(cur.step)\n",
    "            print(cur.f)\n",
    "            #print(cur.action)\n",
    "            #print(cur.f-cur.g)\n",
    "            #print(cur.f-cur.ng)\n",
    "            #print(cur.f-cur.step)\n",
    "        if state_closed_set==[] or not np.any(np.all(np.isin(np.array(state_closed_set),cur.state,True),axis=1)):\n",
    "            if (np.linalg.norm(goal_loc-cur.state_h[:,:2],axis=1)<=0.6875*big_goal_radius).any():\n",
    "                print(cur.f)\n",
    "                idx=np.argwhere((np.linalg.norm(goal_loc-cur.state_h[:,:2],axis=1)<=0.6875*big_goal_radius)==True)[0][0]\n",
    "                cur_path=copy.copy(cur)\n",
    "                path=[cur_path.state_h[:idx+1,:]]\n",
    "                action_path=[cur_path.action[:idx+1,:]]\n",
    "                while cur_path.prev != None:\n",
    "                    path.insert(0,cur_path.prev.state_h)\n",
    "                    action_path.insert(0,cur_path.prev.action)\n",
    "                    cur_path=cur_path.prev\n",
    "                action_path.pop(0)\n",
    "                path[0]=path[0][:1,:]\n",
    "                total_time=time.time()-tstart\n",
    "                return \"success\", np.concatenate(path,axis=0), np.concatenate(action_path,axis=0),len(action_path), num_expanded_nodes, max_size_fringe, total_time\n",
    "            else:#start expanding\n",
    "                num_expanded_nodes+=1\n",
    "                j=1\n",
    "                for i in actions:\n",
    "                    child_state,child_state_h=mstep_predict(num_steps,cur.state,initial_state,i,model,x_std_arr,x_mean_arr,y_std_arr,y_mean_arr)\n",
    "                    child=mnode(ac_weight,child_state,initial_state,num_steps,child_state_h)\n",
    "                    if mstep_isvalid(child,goal_loc,big_goal_radius,initial.loc[0]):\n",
    "                        if state_closed_set==[] or not np.any(np.all(np.isin(np.array(state_closed_set),child.state,True),axis=1)):\n",
    "                            if state_fringe==[] or not np.any(np.all(np.isin(np.array(state_fringe),child.state,True),axis=1)):\n",
    "                                fringe.append(child)\n",
    "                                child.add_prev(cur,i)\n",
    "                                child.calc_f(calc_h(child, goal_loc),i,goal_loc,mode)\n",
    "                                state_fringe.append(child.state)\n",
    "                                f_fringe.append(child.f)\n",
    "                                j+=1\n",
    "                if len(fringe)>max_size_fringe:\n",
    "                    max_size_fringe=len(fringe)\n",
    "            state_closed_set.append(cur.state)\n",
    "    total_time=time.time()-tstart\n",
    "    return \"failure\", None, None, None, num_expanded_nodes, max_size_fringe, total_time\n",
    "\n",
    "def mplot_planned_traj(num_steps,set_mode,set_path,initial_state,run_idx,goal_idx,plan_path,goal_loc,big_goal_radius=4.):\n",
    "    fig, ax = plt.subplots(figsize=(10,3.5))\n",
    "    goal_plan = plt.Circle((goal_loc[0], goal_loc[1]), big_goal_radius, color='m')\n",
    "    ax.add_artist(goal_plan)\n",
    "    plt.text(goal_loc[0]-1.5, goal_loc[1]-1.5, str(goal_idx), fontsize=20)\n",
    "    plt.plot(initial_state[0], initial_state[1], 'ok', markersize=16, color ='r')\n",
    "    if plan_path is not None:\n",
    "        plt.plot(plan_path[:,0],plan_path[:,1],'-k')\n",
    "    plt.xlim([-50, 90])\n",
    "    #plt.xlim([-60, 120])\n",
    "    plt.ylim([70, 120])\n",
    "    #plt.ylim([50, 120])\n",
    "    plt.xlabel('x')\n",
    "    plt.ylabel('y')\n",
    "    plt.savefig(set_path+set_mode+'_goal'+str(goal_idx)+'_run'+str(run_idx)+'_m'+str(num_steps)+'.png', dpi=200)"
   ]
  },
  {
   "cell_type": "code",
   "execution_count": 4,
   "metadata": {},
   "outputs": [
    {
     "name": "stdout",
     "output_type": "stream",
     "text": [
      "0\n",
      "0\n",
      "62.04840193857221\n",
      "len_of_action:  11\n",
      "num_expanded_nodes:  26\n",
      "0\n",
      "0\n",
      "30.923876248435803\n",
      "len_of_action:  4\n",
      "num_expanded_nodes:  7\n",
      "0\n",
      "0\n",
      "32.45820737399225\n",
      "len_of_action:  5\n",
      "num_expanded_nodes:  21\n",
      "0\n",
      "0\n",
      "64.23580196544357\n",
      "len_of_action:  10\n",
      "num_expanded_nodes:  50\n"
     ]
    },
    {
     "data": {
      "image/png": "[encoded data removed]",
      "text/plain": [
       "<Figure size 720x252 with 1 Axes>"
      ]
     },
     "metadata": {
      "needs_background": "light"
     },
     "output_type": "display_data"
    },
    {
     "data": {
      "image/png": "[encoded data removed]",
      "text/plain": [
       "<Figure size 720x252 with 1 Axes>"
      ]
     },
     "metadata": {
      "needs_background": "light"
     },
     "output_type": "display_data"
    },
    {
     "data": {
      "image/png": "[encoded data removed]",
      "text/plain": [
       "<Figure size 720x252 with 1 Axes>"
      ]
     },
     "metadata": {
      "needs_background": "light"
     },
     "output_type": "display_data"
    },
    {
     "data": {
      "image/png": "[encoded data removed]",
      "text/plain": [
       "<Figure size 720x252 with 1 Axes>"
      ]
     },
     "metadata": {
      "needs_background": "light"
     },
     "output_type": "display_data"
    }
   ],
   "source": [
    "big_goal_radius=4.\n",
    "ac_weight=10000\n",
    "run_idx=0\n",
    "set_path='/Users/zsbjltwjj/Downloads/t42_hand/t42_control/rollout_t42/set/astar_set/'\n",
    "if not os.path.exists(set_path):\n",
    "    os.makedirs(set_path)\n",
    "for goal_idx in [0,1,2,3]:\n",
    "#for goal_idx in [3]:\n",
    "    num_steps=100\n",
    "    initial_state=gen_init_state(init_mu,init_sigma,run_idx)\n",
    "    goal_loc=Goal[goal_idx]\n",
    "    status, plan_path, plan_action_path,len_action_path, num_expanded_nodes, max_size_fringe, total_time\\\n",
    "    =Astar_discrete_mstep_stomodel(ac_weight,num_steps,initial_state,goal_loc,model,x_std_arr,x_mean_arr,y_std_arr,y_mean_arr,big_goal_radius=big_goal_radius,mode='')\n",
    "    print('len_of_action: ',len_action_path)\n",
    "    print('num_expanded_nodes: ', num_expanded_nodes)\n",
    "    np.savetxt(set_path+set_mode+'_goal'+str(goal_idx)+'_run'+str(run_idx)+'_m'+str(num_steps)+'_traj.txt',\\\n",
    "               plan_path, fmt='%.20f', delimiter=',')\n",
    "    np.savetxt(set_path+set_mode+'_goal'+str(goal_idx)+'_run'+str(run_idx)+'_m'+str(num_steps)+'_plan.txt',\\\n",
    "               plan_action_path, fmt='%.20f', delimiter=',')\n",
    "    mplot_planned_traj(num_steps,set_mode,set_path,initial_state,run_idx,goal_idx,plan_path,goal_loc,big_goal_radius=big_goal_radius)"
   ]
  },
  {
   "cell_type": "code",
   "execution_count": 5,
   "metadata": {},
   "outputs": [
    {
     "data": {
      "text/plain": [
       "(975, 2)"
      ]
     },
     "execution_count": 5,
     "metadata": {},
     "output_type": "execute_result"
    }
   ],
   "source": [
    "plan_action_path.shape"
   ]
  },
  {
   "cell_type": "code",
   "execution_count": null,
   "metadata": {},
   "outputs": [],
   "source": []
  }
 ],
 "metadata": {
  "kernelspec": {
   "display_name": "Python 3",
   "language": "python",
   "name": "python3"
  },
  "language_info": {
   "codemirror_mode": {
    "name": "ipython",
    "version": 3
   },
   "file_extension": ".py",
   "mimetype": "text/x-python",
   "name": "python",
   "nbconvert_exporter": "python",
   "pygments_lexer": "ipython3",
   "version": "3.6.5"
  }
 },
 "nbformat": 4,
 "nbformat_minor": 4
}
