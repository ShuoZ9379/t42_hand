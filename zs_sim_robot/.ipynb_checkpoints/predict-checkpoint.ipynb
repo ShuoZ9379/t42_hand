{
 "cells": [
  {
   "cell_type": "code",
   "execution_count": 4,
   "metadata": {},
   "outputs": [],
   "source": [
    "import scipy.io\n",
    "import numpy as np \n",
    "import pdb\n",
    "import torch\n",
    "#from common.data_normalization import *\n",
    "#from common.pt_build_model import *\n",
    "import matplotlib.pyplot as plt\n",
    "import glob,pickle,os,copy,sys,random\n",
    "from sys import argv\n",
    "path='/Users/zsbjltwjj/Desktop/beliefspaceplanning/sim_nn_node/models/'\n",
    "# argv lr heldout nntype seed dropout nodes epoch nm ne suffix(v1_, avi_v1_, ...)"
   ]
  },
  {
   "cell_type": "code",
   "execution_count": 29,
   "metadata": {},
   "outputs": [
    {
     "name": "stdout",
     "output_type": "stream",
     "text": [
      "(1771, 2)\n"
     ]
    },
    {
     "data": {
      "image/png": "[encoded data removed]",
      "text/plain": [
       "<Figure size 432x288 with 1 Axes>"
      ]
     },
     "metadata": {
      "needs_background": "light"
     },
     "output_type": "display_data"
    }
   ],
   "source": [
    "idx=4\n",
    "md='sim_cont_trajT_bs512_model512_BS64_loadT_ho40'\n",
    "file_name='/Users/zsbjltwjj/Desktop/robotic_hand_simulator/sim_data_cont_v0_d4_m1_episodes.obj'\n",
    "with open(file_name, 'rb') as filehandler:\n",
    "    memory = pickle.load(filehandler,encoding='latin')\n",
    "gd=memory[idx][:,:4]\n",
    "gd_next=memory[idx][:,-4:]\n",
    "ac=memory[idx][:,4:6]\n",
    "def normalize(data,x_std_arr,x_mean_arr):\n",
    "    return (data - x_mean_arr[:data.shape[-1]]) / x_std_arr[:data.shape[-1]]\n",
    "def denormalize(data,y_std_arr,y_mean_arr):\n",
    "    return data * y_std_arr[:data.shape[-1]] + y_mean_arr[:data.shape[-1]]\n",
    "def get_ground_truth(gd,gd_next):\n",
    "    traj=[gd[0,:2]]\n",
    "    for i in range(gd.shape[0]-1):\n",
    "        if (gd_next[i,:]==gd[i+1,:]).all():\n",
    "            traj.append(gd[i+1,:2])\n",
    "        else:\n",
    "            traj.append(gd_next[i,:2])\n",
    "            traj.append(gd[i+1,:2])\n",
    "    traj.append(gd_next[-1,:2])\n",
    "    return np.array(traj)\n",
    "gd_truth=get_ground_truth(gd,gd_next)\n",
    "model_name = path+md+'.pkl'\n",
    "norm_name = path+'normalization_arr_'+md+'_py2'\n",
    "with open(model_name, 'rb') as pickle_file:\n",
    "    model = torch.load(pickle_file, map_location='cpu')\n",
    "\n",
    "def predict(init_state,ac,norm_name,model):\n",
    "    with open(norm_name, 'rb') as pickle_file:\n",
    "        x_norm_arr, y_norm_arr = pickle.load(pickle_file)\n",
    "        x_mean_arr, x_std_arr = x_norm_arr[0], x_norm_arr[1]\n",
    "        y_mean_arr, y_std_arr = y_norm_arr[0], y_norm_arr[1]\n",
    "    next_state_ls=[init_state[:2]]\n",
    "    for i in range(ac.shape[0]):\n",
    "        sa=np.concatenate([init_state,ac[i,:]])\n",
    "        inpt = normalize(sa,x_std_arr,x_mean_arr)\n",
    "        inpt = torch.tensor(inpt, dtype=torch.float)\n",
    "        state_delta = model(inpt)    \n",
    "        state_delta = state_delta.detach().numpy()\n",
    "        state_delta = denormalize(state_delta,y_std_arr,y_mean_arr)\n",
    "        next_state= (sa[:4] + state_delta)\n",
    "        next_state_ls.append(next_state[:2])\n",
    "        init_state=next_state\n",
    "    return np.array(next_state_ls)\n",
    "\n",
    "pred_states=predict(gd[0,:],ac,norm_name,model)\n",
    "print(pred_states.shape)\n",
    "fig = plt.figure()\n",
    "plt.scatter(gd_truth[0, 0], gd_truth[0, 1], s=150, c='k', marker=\"*\",label='start')\n",
    "plt.plot(gd_truth[:, 0], gd_truth[:, 1], color='blue', label='Ground Truth', marker='.', markersize=2, linewidth=1)\n",
    "plt.plot(pred_states[:, 0], pred_states[:, 1], color='red', label='NN Prediction')\n",
    "plt.axis('scaled')\n",
    "plt.title('Trajectory '+str(idx+1)+ ' Pos Space')\n",
    "plt.legend()\n",
    "plt.show()\n",
    "#fig_loc=pred_fig_path +'_traj_'+str(i+1)+'_pos.png'\n",
    "fig.set_size_inches(10, 10)\n",
    "#fig.savefig(fig_loc)\n"
   ]
  },
  {
   "cell_type": "code",
   "execution_count": 18,
   "metadata": {},
   "outputs": [
    {
     "data": {
      "text/plain": [
       "array([1., 1., 1., 1.])"
      ]
     },
     "execution_count": 18,
     "metadata": {},
     "output_type": "execute_result"
    }
   ],
   "source": [
    "path='/Users/zsbjltwjj/Desktop/robotic_hand_simulator/'\n",
    "pathnorm='/Users/zsbjltwjj/Desktop/beliefspaceplanning/'\n",
    "filename=path+“”\n",
    "with open(filename, 'rb') as filehandler:\n",
    "    memory = pickle.load(filehandler,encoding='latin')\n",
    "print(len(memory))\n",
    "print(memory[0].shape)\n",
    "sm=0\n",
    "ct=0\n",
    "for i in memory:\n",
    "    #if i.shape[0]!=1:\n",
    "    #print(i.shape[0])\n",
    "        #for ln in range(i.shape[0]):\n",
    "        #    if np.linalg.norm(i[ln,:4]-i[ln,-4:])>=3:\n",
    "        #        print(\"a\")\n",
    "        #        break\n",
    "    #if ct<647:\n",
    "    if ct<100:\n",
    "        print(i[0,:4])\n",
    "    sm+=i.shape[0]\n",
    "    ct+=1\n",
    "    "
   ]
  },
  {
   "cell_type": "code",
   "execution_count": null,
   "metadata": {},
   "outputs": [],
   "source": []
  }
 ],
 "metadata": {
  "kernelspec": {
   "display_name": "Python 3",
   "language": "python",
   "name": "python3"
  },
  "language_info": {
   "codemirror_mode": {
    "name": "ipython",
    "version": 3
   },
   "file_extension": ".py",
   "mimetype": "text/x-python",
   "name": "python",
   "nbconvert_exporter": "python",
   "pygments_lexer": "ipython3",
   "version": "3.6.5"
  }
 },
 "nbformat": 4,
 "nbformat_minor": 4
}
