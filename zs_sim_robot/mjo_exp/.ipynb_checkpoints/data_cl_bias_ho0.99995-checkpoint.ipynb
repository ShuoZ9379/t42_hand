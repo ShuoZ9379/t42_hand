{
 "cells": [
  {
   "cell_type": "code",
   "execution_count": 1,
   "metadata": {},
   "outputs": [],
   "source": [
    "import gym\n",
    "import sys, os, pickle\n",
    "import numpy as np\n",
    "from tqdm import tqdm\n",
    "import matplotlib.pyplot as plt\n",
    "import tensorflow as tf\n",
    "from common.tf_util import get_session\n",
    "from common.cmd_util import make_vec_env\n",
    "from common.policies import build_policy\n",
    "from common.policies_aip import build_policy as build_policy_aip\n",
    "from r_diff.model_config import get_make_mlp_model\n",
    "from r_diff.r_diff import R_diff_model\n",
    "from common.input import observation_placeholder\n",
    "from ppo2.model import Model\n",
    "def build_env(env_id,seed=0,goal_height=1.0,ho=0,ah_goal_loc_idx=8,ctrl_rwd=1,env_type='corl',with_obs=0,obs_idx=20,ah_with_goal_loc=0,ah_with_reach_goal=1,ctrl_rwd_coef=1,dm_epochs=500):\n",
    "    config = tf.ConfigProto(allow_soft_placement=True,intra_op_parallelism_threads=1,inter_op_parallelism_threads=1)\n",
    "    config.gpu_options.allow_growth = True\n",
    "    get_session(config=config)\n",
    "    env = make_vec_env(env_id, env_type, 2000, with_obs, 1, obs_idx, 1e6, 0, ah_with_goal_loc, ah_goal_loc_idx, ah_with_reach_goal, ctrl_rwd, 0, ctrl_rwd_coef, ho, goal_height, 1, seed, reward_scale=1.0, flatten_dict_observations=True,dm_epochs=dm_epochs)\n",
    "    return env\n",
    "\n"
   ]
  },
  {
   "cell_type": "code",
   "execution_count": 18,
   "metadata": {},
   "outputs": [],
   "source": [
    "def cl_one_eps_reacher(env,cur_seed):\n",
    "    corl_env=build_env('corl_Reacher-v2',seed=0,goal_height=1.0,ho=0.999,dm_epochs=100)\n",
    "    ob_space = corl_env.observation_space\n",
    "    ac_space = corl_env.action_space\n",
    "    policy = build_policy(corl_env, 'mlp', value_network='copy')\n",
    "    with tf.Session(graph=tf.Graph()):\n",
    "        tf.set_random_seed(cur_seed)\n",
    "        model = Model(policy=policy, env_type='corl', ob_space=ob_space, ac_space=ac_space, nbatch_act=1, nbatch_train=64,ent_coef=0.0, vf_coef=0.5,max_grad_norm=0.5, comm=None, mpi_rank_weight=1)\n",
    "        model.load('./ppo2_results/models_bkup/corl_Reacher-v2/seed_ho0.999_7')\n",
    "\n",
    "        env_aip=build_env('Reacher-v2',seed=0,goal_height=1.0,ho=0.999,ah_goal_loc_idx=8,ctrl_rwd=1,env_type='mujoco',dm_epochs=100)\n",
    "        ob_space = env_aip.observation_space\n",
    "        ac_space = env_aip.action_space\n",
    "        policy_aip = build_policy_aip(env_aip, 'mlp', value_network='copy')\n",
    "        make_model = get_make_mlp_model(num_fc=2, num_fwd_hidden=500, layer_norm=False)\n",
    "        r_diff_model = R_diff_model(env=env_aip, env_id='Reacher-v2', make_model=make_model, update_epochs=5,  batch_size=512, r_diff_classify=False)\n",
    "        ob = observation_placeholder(ob_space,name='Ob')\n",
    "        ref_ac = observation_placeholder(ac_space,name='Ref_ac')\n",
    "        alpha_holder=tf.placeholder(shape=(None,1), dtype=np.float32, name='Alpha')\n",
    "        model_suf='_models_ho'+str(0.999)+'_dmep'+str(100)+'_prsd'+str(7)\n",
    "        with tf.variable_scope(\"pi_aip\"):\n",
    "            aip_pi=policy_aip(ablation='auto',env_type='mujoco',env_id='Reacher-v2',ref_type='ppo',policy_ref=model,r_diff_model=r_diff_model,alpha_func='squared',observ_placeholder=ob,ac_placeholder=ref_ac,alpha_placeholder=alpha_holder)\n",
    "        aip_pi.load('./icra_results/reacher'+model_suf+'/AIP_alpha_auto_seed_0')\n",
    "\n",
    "        all_obs=env.reset().reshape(1,-1)\n",
    "        rwds=np.empty(0)\n",
    "        dones=np.empty(0)\n",
    "        acts=np.empty((0,2))\n",
    "        trans = 0\n",
    "        done=False\n",
    "        goal=all_obs[0,4:6]\n",
    "        pt=1\n",
    "        while not done:\n",
    "            act, v, state, neglogp, action_ref, alpha = aip_pi.step(all_obs[-1,:],stochastic=True,ref_stochastic=False)\n",
    "            if pt:\n",
    "                print(action_ref)\n",
    "                pt=0\n",
    "            obs, rwd, done, _ = env.step(act)\n",
    "            all_obs=np.concatenate((all_obs,obs.reshape(1,-1)),axis=0)\n",
    "            rwds=np.concatenate((rwds,np.array([rwd])),axis=0)\n",
    "            dones=np.concatenate((dones,np.array([done])),axis=0)\n",
    "            acts=np.concatenate((acts,act.reshape(1,-1)),axis=0)\n",
    "            trans += 1    \n",
    "    return all_obs,acts,rwds,dones,goal,trans\n",
    "\n",
    "def process_raw_eps(env_name,raw_eps,acts,use_partial_state):\n",
    "    if env_name=='Reacher-v2':\n",
    "        if use_partial_state:\n",
    "            raw_eps=np.concatenate((raw_eps[:,:4],raw_eps[:,6:8],raw_eps[:,8:10]+raw_eps[:,4:6]),axis=1)\n",
    "        processed_eps=np.concatenate((raw_eps[:-1,:],acts,np.roll(raw_eps,-1,axis=0)[:-1,:]),axis=1)\n",
    "        return processed_eps\n",
    "    else:\n",
    "        raise Exception('Not implemented!')"
   ]
  },
  {
   "cell_type": "code",
   "execution_count": 24,
   "metadata": {},
   "outputs": [],
   "source": [
    "def main(env_name='Reacher-v2',init_seed=1):\n",
    "    eps_data_folder='./mjo_eps_data'\n",
    "    if not os.path.exists(eps_data_folder):\n",
    "        os.makedirs(eps_data_folder)\n",
    "    data_file_name=eps_data_folder+'/'+env_name+'_bias_ho0.99995_train_episode_data.pkl'\n",
    "    # Init environment\n",
    "    env = gym.make(env_name)\n",
    "    cur_seed = 1000000+int(init_seed)\n",
    "    np.random.seed(cur_seed)\n",
    "    env.seed(cur_seed)\n",
    "    processed_eps_ls,rwd_ls,done_ls,goal_ls=[],[],[],[]\n",
    "    if env_name=='Reacher-v2':\n",
    "        raw_eps,acts,rwds,dones,goal,trans=cl_one_eps_reacher(env,cur_seed)\n",
    "    else:\n",
    "        raise NotImplementedError\n",
    "    processed_eps=process_raw_eps(env_name,raw_eps,acts,use_partial_state=True)\n",
    "    processed_eps_ls.append(processed_eps)\n",
    "    rwd_ls.append(rwds)\n",
    "    done_ls.append(dones)\n",
    "    goal_ls.append(goal)\n",
    "\n",
    "    with open(data_file_name,'wb') as f:\n",
    "        pickle.dump([processed_eps_ls,rwd_ls,done_ls,goal_ls],f)\n",
    "    print(len(processed_eps_ls),len(rwd_ls),len(done_ls))\n",
    "    print(processed_eps_ls[0].shape,rwd_ls[0].shape,done_ls[0].shape)\n",
    "    print(done_ls[0])\n",
    "    print(goal_ls[0])\n",
    "    print(raw_eps[-1,8:10])\n",
    "    \n",
    "    if env_name=='Reacher-v2':\n",
    "        fig, ax = plt.subplots(figsize=(8,8))\n",
    "        goal_plan = plt.Circle((goal[0], goal[1]), 0.02, color='m')\n",
    "        ax.add_artist(goal_plan)\n",
    "        plt.text(goal[0]-0.01, goal[1]-0.01,str(init_seed),fontsize=20)\n",
    "        plt.scatter(processed_eps[0,6], processed_eps[0,7], s=15, marker='*', color ='k',label='start')\n",
    "        plt.plot(raw_eps[:,8]+raw_eps[:,4],raw_eps[:,9]+raw_eps[:,5],'-r',label='rollout path')\n",
    "        plt.xlim([-0.22, 0.22])\n",
    "        plt.ylim([-0.22, 0.22])\n",
    "        plt.xlabel('x')\n",
    "        plt.ylabel('y')\n",
    "        plt.legend()\n",
    "        plt.savefig('./mjo_exp/reacher_bias_ho0.99995_train_data.png',dpi=200)\n",
    "        plt.show()"
   ]
  },
  {
   "cell_type": "code",
   "execution_count": 25,
   "metadata": {},
   "outputs": [
    {
     "name": "stdout",
     "output_type": "stream",
     "text": [
      "r_diff args {'kwargs': {}, 'forward_dynamic': None, 'r_diff_classify': False, 'batch_size': 512, 'update_epochs': 5, 'make_model': <function get_make_mlp_model.<locals>._thunk at 0x168309378>, 'env_id': 'Reacher-v2', 'env': <ClipActionsWrapper<Monitor<TimeLimit<ReacherEnv<Reacher-v2>>>>>, 'self': <r_diff.r_diff.R_diff_model object at 0x16785fb70>}\n",
      "Forward dynamic args {'kwargs': {}, 'classify': False, 'scope': 'new_forward_dynamic', 'memory_size': 100000, 'normalize_obs': False, 'make_model': <function get_make_mlp_model.<locals>._thunk at 0x168309378>, 'ac_space': Box(2,), 'ob_space': Box(11,), 'self': <r_diff.dynamics.ForwardDynamic object at 0x16785fba8>}\n",
      "NN {'kwargs': {}, 'optimizer': <class 'tensorflow.python.training.adam.AdamOptimizer'>, 'lr': 0.001, 'classify': False, 'make_model': <function get_make_mlp_model.<locals>._thunk at 0x168309378>, 'num_output': 1, 'num_input': 13, 'self': <r_diff.model.NN object at 0x16785fe80>}\n",
      "Forward dynamic args {'kwargs': {}, 'classify': False, 'scope': 'old_forward_dynamic', 'memory_size': 100000, 'normalize_obs': False, 'make_model': <function get_make_mlp_model.<locals>._thunk at 0x168309378>, 'ac_space': Box(2,), 'ob_space': Box(11,), 'self': <r_diff.dynamics.ForwardDynamic object at 0x16785fdd8>}\n",
      "NN {'kwargs': {}, 'optimizer': <class 'tensorflow.python.training.adam.AdamOptimizer'>, 'lr': 0.001, 'classify': False, 'make_model': <function get_make_mlp_model.<locals>._thunk at 0x168309378>, 'num_output': 1, 'num_input': 13, 'self': <r_diff.model.NN object at 0x16840a588>}\n",
      "[[-0.2182202  -0.32259548]]\n",
      "1 1 1\n",
      "(50, 18) (50,) (50,)\n",
      "[0. 0. 0. 0. 0. 0. 0. 0. 0. 0. 0. 0. 0. 0. 0. 0. 0. 0. 0. 0. 0. 0. 0. 0.\n",
      " 0. 0. 0. 0. 0. 0. 0. 0. 0. 0. 0. 0. 0. 0. 0. 0. 0. 0. 0. 0. 0. 0. 0. 0.\n",
      " 0. 1.]\n",
      "[ 0.02439482 -0.15327718]\n",
      "[-0.05042269 -0.02106447]\n"
     ]
    },
    {
     "data": {
      "image/png": "[encoded data removed]",
      "text/plain": [
       "<Figure size 576x576 with 1 Axes>"
      ]
     },
     "metadata": {
      "needs_background": "light"
     },
     "output_type": "display_data"
    }
   ],
   "source": [
    "main()"
   ]
  },
  {
   "cell_type": "code",
   "execution_count": null,
   "metadata": {},
   "outputs": [],
   "source": [
    "if __name__ == '__main__':\n",
    "    if len(sys.argv) > 1:\n",
    "        main(*sys.argv[1:])\n",
    "    else:\n",
    "        main()\n",
    "\n"
   ]
  }
 ],
 "metadata": {
  "kernelspec": {
   "display_name": "Python 3",
   "language": "python",
   "name": "python3"
  },
  "language_info": {
   "codemirror_mode": {
    "name": "ipython",
    "version": 3
   },
   "file_extension": ".py",
   "mimetype": "text/x-python",
   "name": "python",
   "nbconvert_exporter": "python",
   "pygments_lexer": "ipython3",
   "version": "3.6.5"
  }
 },
 "nbformat": 4,
 "nbformat_minor": 4
}
